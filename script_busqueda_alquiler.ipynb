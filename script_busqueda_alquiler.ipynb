{
 "cells": [
  {
   "cell_type": "code",
   "execution_count": 1,
   "id": "e4637112",
   "metadata": {},
   "outputs": [],
   "source": [
    "from selenium import webdriver\n",
    "from selenium.webdriver.chrome.service import Service\n",
    "from selenium.webdriver.common.keys import Keys\n",
    "from selenium.webdriver.support.ui import WebDriverWait\n",
    "from selenium.webdriver.support import expected_conditions as EC\n",
    "from selenium.webdriver.common.by import By\n",
    "from selenium.common.exceptions import TimeoutException\n",
    "from selenium.common.exceptions import ElementClickInterceptedException\n",
    "from selenium.common.exceptions import StaleElementReferenceException\n",
    "from selenium.common.exceptions import NoSuchElementException\n",
    "from selenium.webdriver.common.action_chains import ActionChains\n",
    "import time\n",
    "\n",
    "import pandas as pd\n",
    "import numpy as np\n",
    "from datetime import datetime\n",
    "import os\n",
    "import locale\n",
    "import shutil"
   ]
  },
  {
   "cell_type": "code",
   "execution_count": null,
   "id": "79ba7001",
   "metadata": {},
   "outputs": [],
   "source": [
    "# Configuración de Chrome driver:\n",
    "# Inicializa el navegador web Google Chrome\n",
    "chrome_driver_path = r'C:\\Users\\Windows\\Repositorio\\ChromeDriver\\chromedriver.exe'\n",
    "chrome_service = Service(executable_path=chrome_driver_path)\n",
    "\n",
    "# Se crea un argumento que sirve para configurar las opciones de escrapeo\n",
    "chrome_options = webdriver.ChromeOptions()\n",
    "# chrome_options.add_argument('--hdless')   # hace que no se active la interfaz gráfica (abrir el navegador) mientras escrapea\n",
    "# chrome_options.add_argument('--diseaable-gpu') # hace que no se active el GPU. esta opcion puede ir junto a --headless ya que no es necesario activar el gpu ya que no hay interfaz \n",
    "\n",
    "driver = webdriver.Chrome(service=chrome_service, options=chrome_options)\n",
    "\n",
    "# Maximizando la ventana del navegador\n",
    "driver.maximize_window()\n",
    "\n",
    "# Abre página de policía:\n",
    "url = 'https://www.argenprop.com/departamentos-o-ph/alquiler/capital-federal?solo-ver-pesos'\n",
    "driver.get(url)\n",
    "\n",
    "# WebDriverWait(driver, 5).until(EC.presence_of_element_located((By.ID, \"btnBuscar\")))\n",
    "# espera_1 = WebDriverWait(driver, 1)\n",
    "# espera_3 = WebDriverWait(driver, 3)\n",
    "espera_5 = WebDriverWait(driver, 5)\n",
    "espera_10 = WebDriverWait(driver, 10)\n",
    "# espera_15 = WebDriverWait(driver, 15)\n",
    "espera_20 = WebDriverWait(driver, 20)\n",
    "\n",
    "##### FILTRO PRECIO #####\n",
    "\n",
    "desplegable_filtro_precio_ = espera_10.until(EC.presence_of_element_located((By.ID, \"filter-precio\"))).click()\n",
    "\n",
    "precio_desde = espera_10.until(EC.presence_of_element_located((By.ID, \"PrecioDesde\")))\n",
    "precio_hasta = espera_10.until(EC.presence_of_element_located((By.ID, \"PrecioHasta\")))\n",
    "\n",
    "precio_desde.send_keys(input(\"ingresá valor mínimo: \"))\n",
    "precio_hasta.send_keys(input(\"ingresá valor máximo: \"))\n",
    "\n",
    "boton_precio_aplicar = espera_10.until(EC.presence_of_element_located((By.ID, \"preciorangoContainerButton\"))).click()\n",
    "\n",
    "\n",
    "##### FILTRO AMBIENTES  ######\n",
    "\n",
    "desplegable_filtro_ambientes = espera_10.until(EC.presence_of_element_located((By.ID, \"filter-group-range\"))).click()\n",
    "\n",
    "numero_dormitorios = espera_10.until(EC.presence_of_element_located((By.XPATH, '//*[@id=\"filter-group-range\"]/div/div[1]/div[1]/ul/li[1]')))\n",
    "\n",
    "numero_ambientes = espera_10.until(EC.presence_of_element_located((By.XPATH, '//*[@id=\"filter-group-range\"]/div/div[1]/div[2]/ul/li[1]')))\n",
    "\n",
    "boton_ambientes_aplicar = espera_10.until(EC.presence_of_element_located((By.ID, \"filter-group-range\"))).click()\n",
    "\n",
    "# https://www.argenprop.com/departamentos-o-ph/alquiler/capital-federal/2-ambientes-o-3-ambientes/2-dormitorios-o-3-dormitorios/pesos-200000-420000?solo-ver-pesos\n"
   ]
  },
  {
   "cell_type": "code",
   "execution_count": null,
   "id": "920dd823",
   "metadata": {},
   "outputs": [],
   "source": []
  },
  {
   "cell_type": "code",
   "execution_count": null,
   "id": "e873c85c",
   "metadata": {},
   "outputs": [],
   "source": []
  }
 ],
 "metadata": {
  "kernelspec": {
   "display_name": "Python 3",
   "language": "python",
   "name": "python3"
  },
  "language_info": {
   "codemirror_mode": {
    "name": "ipython",
    "version": 3
   },
   "file_extension": ".py",
   "mimetype": "text/x-python",
   "name": "python",
   "nbconvert_exporter": "python",
   "pygments_lexer": "ipython3",
   "version": "3.11.5"
  }
 },
 "nbformat": 4,
 "nbformat_minor": 5
}
